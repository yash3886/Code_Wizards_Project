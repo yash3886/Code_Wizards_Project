{
 "cells": [
  {
   "cell_type": "code",
   "execution_count": 184,
   "id": "5d22b7fe",
   "metadata": {},
   "outputs": [],
   "source": [
    "import pandas as pd "
   ]
  },
  {
   "cell_type": "code",
   "execution_count": 185,
   "id": "1ca78c11",
   "metadata": {},
   "outputs": [
    {
     "data": {
      "text/plain": [
       "Index(['uniq_id', 'crawl_timestamp', 'product_url', 'product_name',\n",
       "       'product_category_tree', 'pid', 'retail_price', 'discounted_price',\n",
       "       'image', 'is_FK_Advantage_product', 'description', 'product_rating',\n",
       "       'overall_rating', 'brand', 'product_specifications'],\n",
       "      dtype='object')"
      ]
     },
     "execution_count": 185,
     "metadata": {},
     "output_type": "execute_result"
    }
   ],
   "source": [
    "df=pd.read_csv('flipkart_com-ecommerce_sample oredr 4 - flipkart_com-ecommerce_sample oredr 2 - flipkart_com-ecommerce_sample.csv')\n",
    "df.head()\n",
    "df.columns"
   ]
  },
  {
   "cell_type": "code",
   "execution_count": 186,
   "id": "112cb0ad",
   "metadata": {},
   "outputs": [],
   "source": [
    "def convert(str):\n",
    "    return str.split(',')\n"
   ]
  },
  {
   "cell_type": "code",
   "execution_count": 187,
   "id": "966f67a9",
   "metadata": {},
   "outputs": [],
   "source": [
    "def convert1(str):\n",
    "    return str.split(' ')\n"
   ]
  },
  {
   "cell_type": "code",
   "execution_count": 190,
   "id": "3f156711",
   "metadata": {},
   "outputs": [],
   "source": [
    "df.dropna(subset=['product_specifications'], inplace=True)\n",
    "df.dropna(subset=['description'], inplace=True)"
   ]
  },
  {
   "cell_type": "code",
   "execution_count": 191,
   "id": "1a1138fc",
   "metadata": {},
   "outputs": [
    {
     "data": {
      "text/plain": [
       "0        [Clothing ,  Women's Clothing ,  Lingerie,  Sleep & Swimwear ,  Shorts ,  Alisha Shorts ,  Alisha Solid Women's Cycling Shorts ]\n",
       "1                                                                             [Footwear ,  Women's Footwear ,  Ballerinas ,  AW Bellies ]\n",
       "2        [Clothing ,  Women's Clothing ,  Lingerie,  Sleep & Swimwear ,  Shorts ,  Alisha Shorts ,  Alisha Solid Women's Cycling Shorts ]\n",
       "3                            [Pet Supplies ,  Grooming ,  Skin & Coat Care ,  Shampoo ,  Sicons All Purpose Arnica Dog Shampoo (500 ml) ]\n",
       "4                                                                                  [Eternal Gandhi Super Series Crystal Paper Weight... ]\n",
       "                                                                       ...                                                               \n",
       "19974                                                                [Baby Care ,  Baby & Kids Gifts ,  Stickers ,  WallDesign Stickers ]\n",
       "19975                                                                [Baby Care ,  Baby & Kids Gifts ,  Stickers ,  Wallmantra Stickers ]\n",
       "19976                                                          [Baby Care ,  Baby & Kids Gifts ,  Stickers ,  Elite Collection Stickers ]\n",
       "19977                                                          [Baby Care ,  Baby & Kids Gifts ,  Stickers ,  Elite Collection Stickers ]\n",
       "19978                                                          [Baby Care ,  Baby & Kids Gifts ,  Stickers ,  Elite Collection Stickers ]\n",
       "Name: product_category_tree, Length: 14020, dtype: object"
      ]
     },
     "execution_count": 191,
     "metadata": {},
     "output_type": "execute_result"
    }
   ],
   "source": [
    "df['product_category_tree'].apply(convert)"
   ]
  },
  {
   "cell_type": "code",
   "execution_count": 192,
   "id": "3165a3fe",
   "metadata": {},
   "outputs": [
    {
     "data": {
      "text/plain": [
       "0                                                                                                                                                                                                                                                                    [Key, Features, of, Alisha, Solid, Women's, Cycling, Shorts, Cotton, Lycra, Navy,, Red,, Navy,Specifications, of, Alisha, Solid, Women's, Cycling, Shorts, Shorts, Details, Number, of, Contents, in, Sales, Package, Pack, of, 3, Fabric, Cotton, Lycra, Type, Cycling, Shorts, General, Details, Pattern, Solid, Ideal, For, Women's, Fabric, Care, Gentle, Machine, Wash, in, Lukewarm, Water,, Do, Not, Bleach, Additional, Details, Style, Code, ALTHT_3P_21, In, the, Box, 3, shorts]\n",
       "1        [Key, Features, of, AW, Bellies, Sandals, Wedges, Heel, Casuals,AW, Bellies, Price:, Rs., 499, Material:, Synthetic, Lifestyle:, Casual, Heel, Type:, Wedge, Warranty, Type:, Manufacturer, Product, Warranty, against, manufacturing, defects:, 30, days, Care, instructions:, Allow, your, pair, of, shoes, to, air, and, de-odorize, at, regular, basis;, use, shoe, bags, to, prevent, any, stains, or, mildew;, dust, any, dry, dirt, from, the, surface, using, a, clean, cloth;, do, not, use, polish, or, shiner,Specifications, of, AW, Bellies, General, Ideal, For, Women, Occasion, Casual, Shoe, Details, Color, Red, Outer, Material, Patent, Leather, Heel, Height, 1, inch, Number, of, Contents, in, Sales, Package, Pack, of, 1, ...]\n",
       "2                                                                                                                                                                                                                                                                            [Key, Features, of, Alisha, Solid, Women's, Cycling, Shorts, Cotton, Lycra, Black,, Red,Specifications, of, Alisha, Solid, Women's, Cycling, Shorts, Shorts, Details, Number, of, Contents, in, Sales, Package, Pack, of, 2, Fabric, Cotton, Lycra, Type, Cycling, Shorts, General, Details, Pattern, Solid, Ideal, For, Women's, Fabric, Care, Gentle, Machine, Wash, in, Lukewarm, Water,, Do, Not, Bleach, Additional, Details, Style, Code, ALTGHT_11, In, the, Box, 2, shorts]\n",
       "3                                                                                                                                                                                                                                                                                                                                                                                                                                                              [Specifications, of, Sicons, All, Purpose, Arnica, Dog, Shampoo, (500, ml), General, Pet, Type, Dog, Brand, Sicons, Quantity, 500, ml, Model, Number, SH.DF-14, Type, All, Purpose, Fragrance, Arnica, Form, Factor, Liquid, In, the, Box, Sales, Package, Shampoo, Sicons, Dog, Fashion, Arnica]\n",
       "4                                                         [Key, Features, of, Eternal, Gandhi, Super, Series, Crystal, Paper, Weights, , with, Silver, Finish, Crystal, , paper, weight, Product, Dimensions, :, , , 8cm, x, , 8cm, x, 5cm, A, beautiful, product, Material:, Crystal,Eternal, Gandhi, Super, Series, Crystal, Paper, Weights, , with, Silver, Finish, (Set, Of, 1,, Clear), Price:, Rs., 430, Your, office, desk, will, sparkle, and, shine, when, you, accent, tables, with, this, elegant, crystal, paper, weight., The, multifaceted, crystal, features, Gandhiji’s, bust, and, his, timeless, message, –, “My, life, is, my, message, –, M.K., Gandhi”., A, beautiful, product, to, gift, to, your, near, and, dear, ones, in, family, ...]\n",
       "                                                                                                                                                                                                                                                                                                                                                                                  ...                                                                                                                                                                                                                                                                                                                                                                           \n",
       "19974                                                                                                                                                                                                                                                                                                                                                                                                                                                                                                                              [Buy, WallDesign, Small, Vinyl, Sticker, for, Rs.730, online., WallDesign, Small, Vinyl, Sticker, at, best, prices, with, FREE, shipping, &, cash, on, delivery., Only, Genuine, Products., 30, Day, Replacement, Guarantee.]\n",
       "19975                                                                                                                                                                                                                                                                                                                                                                                                                                                                                                         [Buy, Wallmantra, Large, Vinyl, Stickers, Sticker, for, Rs.1143, online., Wallmantra, Large, Vinyl, Stickers, Sticker, at, best, prices, with, FREE, shipping, &, cash, on, delivery., Only, Genuine, Products., 30, Day, Replacement, Guarantee.]\n",
       "19976                                                                                                                                                                                                                                                                                                                                                                                                                                                                                                          [Buy, Elite, Collection, Medium, Acrylic, Sticker, for, Rs.999, online., Elite, Collection, Medium, Acrylic, Sticker, at, best, prices, with, FREE, shipping, &, cash, on, delivery., Only, Genuine, Products., 30, Day, Replacement, Guarantee.]\n",
       "19977                                                                                                                                                                                                                                                                                                                                                                                                                                                                                                         [Buy, Elite, Collection, Medium, Acrylic, Sticker, for, Rs.1199, online., Elite, Collection, Medium, Acrylic, Sticker, at, best, prices, with, FREE, shipping, &, cash, on, delivery., Only, Genuine, Products., 30, Day, Replacement, Guarantee.]\n",
       "19978                                                                                                                                                                                                                                                                                                                                                                                                                                                                                                          [Buy, Elite, Collection, Medium, Acrylic, Sticker, for, Rs.999, online., Elite, Collection, Medium, Acrylic, Sticker, at, best, prices, with, FREE, shipping, &, cash, on, delivery., Only, Genuine, Products., 30, Day, Replacement, Guarantee.]\n",
       "Name: description, Length: 14020, dtype: object"
      ]
     },
     "execution_count": 192,
     "metadata": {},
     "output_type": "execute_result"
    }
   ],
   "source": [
    "df['description'].apply(convert1)"
   ]
  },
  {
   "cell_type": "code",
   "execution_count": 197,
   "id": "867ea4dd",
   "metadata": {},
   "outputs": [
    {
     "data": {
      "text/plain": [
       "0"
      ]
     },
     "execution_count": 197,
     "metadata": {},
     "output_type": "execute_result"
    }
   ],
   "source": [
    "df['product_specifications'].isna().sum()"
   ]
  },
  {
   "cell_type": "code",
   "execution_count": 198,
   "id": "c05d81d2",
   "metadata": {},
   "outputs": [
    {
     "data": {
      "text/plain": [
       "0"
      ]
     },
     "execution_count": 198,
     "metadata": {},
     "output_type": "execute_result"
    }
   ],
   "source": [
    "df['description'].isna().sum()"
   ]
  },
  {
   "cell_type": "code",
   "execution_count": 195,
   "id": "cbafd9a7",
   "metadata": {},
   "outputs": [
    {
     "data": {
      "text/plain": [
       "0                                                                                                                                                                                                                                                                                                                                        [ Number of Contents in Sales Package,  Pack of 3 ,   Fabric,  Cotton Lycra ,   Type,  Cycling Shorts ,   Pattern,  Solid ,   Ideal For,  Women's ,    Gentle Machine Wash in Lukewarm Water,  Do Not Bleach ,   Style Code,  ALTHT_3P_21 ,    3 shorts   ]\n",
       "1                                                                                                                                                                                                                                                                                                                                                                                              [ Ideal For,  Women ,   Occasion,  Casual ,   Color,  Red ,   Outer Material,  Patent Leather ,   Heel Height,  1 inch ,   Number of Contents in Sales Package,  Pack of 1 ,    One Pair Of Shoes   ]\n",
       "2                                                                                                                                                                                                                                                                                                                                          [ Number of Contents in Sales Package,  Pack of 2 ,   Fabric,  Cotton Lycra ,   Type,  Cycling Shorts ,   Pattern,  Solid ,   Ideal For,  Women's ,    Gentle Machine Wash in Lukewarm Water,  Do Not Bleach ,   Style Code,  ALTGHT_11 ,    2 shorts   ]\n",
       "3                                                                                                                                                                                                                                                                                                                                                                             [ Pet Type,  Dog ,   Brand,  Sicons ,   Quantity,  500 ml ,   Model Number,  SH.DF-14 ,   Type,  All Purpose ,   Fragrance,  Arnica ,   Form Factor,  Liquid ,   Sales Package,  Shampoo Sicons Dog Fashion Arnica   ]\n",
       "4                                                                                                                                                                                                                                                                                                                                                                                                                                     [ Model Name,  Gandhi Paper Weight Mark V ,   Weight,  323 g ,    Paper Weight ,   Paper Weight Material,  Crystal ,   Paper Weight Finish,  Silver Finish   ]\n",
       "                                                                                                                                                                                                                                                                                                    ...                                                                                                                                                                                                                                                                                             \n",
       "19974         [ Number of Contents in Sales Package,  Pack of 55 ,   Sales Package,  Sticker ,   Ideal Use,  Wall Decoration,  Home Décor,  Furniture,  Door,  Bedroom,  Living Room,  Kids Room ,   Scratch-resistant,  Yes ,   Shape,  Damask ,   Brand,  WallDesign ,   Laminated,  Yes ,   Theme,  Royal,  Damask ,   Type,  Vinyl ,   Size in Number,  4 inch ,   Number of Stickers,  55 ,   Ideal For,  Home décor,  Wall Decoration,  Living Room,  Bedroom:Bathroom,  Kitchen ,   Design,  Royal,  Damask ,   Size,  Small ,   Height,  7.5 cm ,   Width,  10 cm ,   Thickness,  0.1 cm   ]\n",
       "19975    [ Number of Contents in Sales Package,  Pack of 1 ,   Sales Package,  1 Wall Decal,  2 Practise Decals,  Instruction Manual ,   Ideal Use,  Wall ,   Brand,  Wallmantra ,   Shape,  Rectangular ,   Scratch-resistant,  No ,   Laminated,  No ,   Type,  Vinyl Stickers ,   Number of Stickers,  1 ,   Size in Number,  75 cm ,   Material,  Vinyl ,   Size,  Large ,   Weight,  200 g ,   Height,  60 cm ,   Width,  75 cm ,    If you have received a damaged or defective product or it is not as described,  you can get a replacement within 30 days of delivery at no extra cost.   ]\n",
       "19976                                                                                                                                                                                                                                 [ Number of Contents in Sales Package,  Pack of 1 ,   Sales Package,  3D Acrylic Wall Decor Decal,  Self Adhesive Tape ,   Ideal Use,  Wall ,   Scratch-resistant,  No ,   Shape,  Fish ,   Brand,  Elite Collection ,   Type,  Acrylic ,   Size in Number,  0.2 cm ,   Number of Stickers,  5 ,   Size,  Medium ,   Weight,  200 g ,   Thickness,  0.2 cm   ]\n",
       "19977                                                                                                                                                                                                                                                  [ Number of Contents in Sales Package,  Pack of 1 ,   Sales Package,  3D Acrylic Wall Decor Decal,  Self Adhesive Tape ,   Ideal Use,  Wall ,   Scratch-resistant,  No ,   Brand,  Elite Collection ,   Type,  Acrylic ,   Size in Number,  0.2 cm ,   Number of Stickers,  8 ,   Size,  Medium ,   Weight,  500 g ,   Thickness,  0.2 cm   ]\n",
       "19978                                                                                                                                                                                                                             [ Number of Contents in Sales Package,  Pack of 3 ,   Sales Package,  3D Acrylic Wall Decor Decal,  Self Adhesive Tape,  Installation Guide ,   Ideal Use,  Wall ,   Brand,  Elite Collection ,   Scratch-resistant,  No ,   Type,  Acrylic ,   Number of Stickers,  3 ,   Size in Number,  0.2 cm ,   Size,  Medium ,   Weight,  500 g ,   Thickness,  0.2 cm   ]\n",
       "Name: product_specifications, Length: 14020, dtype: object"
      ]
     },
     "execution_count": 195,
     "metadata": {},
     "output_type": "execute_result"
    }
   ],
   "source": [
    "df['product_specifications'].apply(convert)"
   ]
  },
  {
   "cell_type": "code",
   "execution_count": 196,
   "id": "7ae66111",
   "metadata": {},
   "outputs": [
    {
     "data": {
      "text/plain": [
       "0                                                [Alisha, Solid, Women's, Cycling, Shorts]\n",
       "1                                                                            [AW, Bellies]\n",
       "2                                                [Alisha, Solid, Women's, Cycling, Shorts]\n",
       "3                                             [Sicons, All, Purpose, Arnica, Dog, Shampoo]\n",
       "4        [Eternal, Gandhi, Super, Series, Crystal, Paper, Weights, , with, Silver, Finish]\n",
       "                                               ...                                        \n",
       "19974                                                  [WallDesign, Small, Vinyl, Sticker]\n",
       "19975                                        [Wallmantra, Large, Vinyl, Stickers, Sticker]\n",
       "19976                                        [Elite, Collection, Medium, Acrylic, Sticker]\n",
       "19977                                        [Elite, Collection, Medium, Acrylic, Sticker]\n",
       "19978                                        [Elite, Collection, Medium, Acrylic, Sticker]\n",
       "Name: product_name, Length: 14020, dtype: object"
      ]
     },
     "execution_count": 196,
     "metadata": {},
     "output_type": "execute_result"
    }
   ],
   "source": [
    "df['product_name'].apply(convert1)"
   ]
  },
  {
   "cell_type": "code",
   "execution_count": 201,
   "id": "1ef0c7e3",
   "metadata": {},
   "outputs": [
    {
     "data": {
      "text/plain": [
       "0                                                [Alisha, Solid, Women's, Cycling, Shorts]\n",
       "1                                                                            [AW, Bellies]\n",
       "2                                                [Alisha, Solid, Women's, Cycling, Shorts]\n",
       "3                                             [Sicons, All, Purpose, Arnica, Dog, Shampoo]\n",
       "4        [Eternal, Gandhi, Super, Series, Crystal, Paper, Weights, , with, Silver, Finish]\n",
       "                                               ...                                        \n",
       "19974                                                  [WallDesign, Small, Vinyl, Sticker]\n",
       "19975                                        [Wallmantra, Large, Vinyl, Stickers, Sticker]\n",
       "19976                                        [Elite, Collection, Medium, Acrylic, Sticker]\n",
       "19977                                        [Elite, Collection, Medium, Acrylic, Sticker]\n",
       "19978                                        [Elite, Collection, Medium, Acrylic, Sticker]\n",
       "Name: product_name, Length: 14020, dtype: object"
      ]
     },
     "execution_count": 201,
     "metadata": {},
     "output_type": "execute_result"
    }
   ],
   "source": [
    "df['product_name'].apply(convert1)"
   ]
  },
  {
   "cell_type": "code",
   "execution_count": 203,
   "id": "1f5959ee",
   "metadata": {},
   "outputs": [],
   "source": []
  },
  {
   "cell_type": "code",
   "execution_count": null,
   "id": "d354d3f0",
   "metadata": {},
   "outputs": [],
   "source": []
  }
 ],
 "metadata": {
  "kernelspec": {
   "display_name": "Python 3 (ipykernel)",
   "language": "python",
   "name": "python3"
  },
  "language_info": {
   "codemirror_mode": {
    "name": "ipython",
    "version": 3
   },
   "file_extension": ".py",
   "mimetype": "text/x-python",
   "name": "python",
   "nbconvert_exporter": "python",
   "pygments_lexer": "ipython3",
   "version": "3.9.0"
  }
 },
 "nbformat": 4,
 "nbformat_minor": 5
}
